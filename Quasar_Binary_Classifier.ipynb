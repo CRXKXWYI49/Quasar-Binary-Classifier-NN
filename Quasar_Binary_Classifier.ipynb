{
  "nbformat": 4,
  "nbformat_minor": 0,
  "metadata": {
    "colab": {
      "provenance": [],
      "toc_visible": true
    },
    "kernelspec": {
      "name": "python3",
      "display_name": "Python 3"
    },
    "language_info": {
      "name": "python"
    }
  },
  "cells": [
    {
      "cell_type": "markdown",
      "source": [
        "#Initialization"
      ],
      "metadata": {
        "id": "G5yhgRA-P747"
      }
    },
    {
      "cell_type": "code",
      "source": [
        "import tensorflow as tf\n",
        "from tensorflow.keras import layers\n",
        "\n",
        "import numpy as np\n",
        "import pandas as pd\n",
        "\n",
        "from sklearn.model_selection import train_test_split\n",
        "from sklearn.preprocessing import StandardScaler\n",
        "\n",
        "from google.colab import drive\n",
        "\n",
        "drive.mount('/content/drive', force_remount = True)"
      ],
      "metadata": {
        "id": "vmgbzakNNg7q",
        "colab": {
          "base_uri": "https://localhost:8080/"
        },
        "outputId": "05399a53-1fd0-45c5-b1f9-67054f6dc665"
      },
      "execution_count": 1,
      "outputs": [
        {
          "output_type": "stream",
          "name": "stdout",
          "text": [
            "Mounted at /content/drive\n"
          ]
        }
      ]
    },
    {
      "cell_type": "code",
      "source": [
        "#Create data frame\n",
        "filePath = '/content/drive/My Drive/*PHYS177/Project/Skyserver_SQL2_18_2024 8 52 51 AM.csv'\n",
        "df = pd.read_csv(filePath, low_memory = False, header = 1)"
      ],
      "metadata": {
        "id": "Zf_Wl03yX79o"
      },
      "execution_count": 2,
      "outputs": []
    },
    {
      "cell_type": "code",
      "source": [
        "#Verify data is loaded into data frame\n",
        "print(df.head())"
      ],
      "metadata": {
        "id": "INX4IcD0NhIm",
        "colab": {
          "base_uri": "https://localhost:8080/"
        },
        "outputId": "de8c21dc-4a5f-44be-e100-7513858e99b9"
      },
      "execution_count": 3,
      "outputs": [
        {
          "output_type": "stream",
          "name": "stdout",
          "text": [
            "                 objid          ra        dec         u         g         r  \\\n",
            "0  1237668332026986542  217.940001  14.608378  19.13548  18.55482  17.95603   \n",
            "1  1237661971724501194  189.744793   7.650623  19.21402  17.27192  16.38074   \n",
            "2  1237673706652434520  116.303083  42.455980  18.47633  17.30546  17.24116   \n",
            "3  1237658423557816441  169.129790   7.152575  17.47752  16.23605  15.61560   \n",
            "4  1237658423538549134  125.039334   3.642783  19.35331  18.05971  17.41365   \n",
            "\n",
            "          i         z   run  rerun  camcol  field            specobjid  \\\n",
            "0  17.68272  17.63717  5322    301       3     56  6154252554903769088   \n",
            "1  15.96969  15.62344  3841    301       4    166  1833117663862220800   \n",
            "2  17.32780  17.37114  6573    301       6    220  9333948945297330176   \n",
            "3  15.29749  15.03419  3015    301       3    367  1820656067877562368   \n",
            "4  17.00762  16.73926  3015    301       3     73  1333227711975417856   \n",
            "\n",
            "    class  redshift  plate    mjd  fiberid  \n",
            "0     QSO  1.802680   5466  56033      304  \n",
            "1  GALAXY  0.075626   1628  53474      555  \n",
            "2    STAR -0.000093   8290  57364      868  \n",
            "3  GALAXY  0.037549   1617  53112      276  \n",
            "4  GALAXY  0.093936   1184  52641      590  \n"
          ]
        }
      ]
    },
    {
      "cell_type": "code",
      "source": [
        "# Input DataFrame\n",
        "input_columns = ['u', 'g', 'r', 'i', 'z', 'redshift']\n",
        "df_input = df[input_columns]\n",
        "\n",
        "# Output DataFrame\n",
        "output_columns = ['class']\n",
        "df_output = df[output_columns]\n",
        "df_output_modified = df_output.copy()\n",
        "\n",
        "df_output_modified.loc[:, 'class'] = df_output_modified['class'].apply(lambda x: 1 if x == 'QSO' else 0)"
      ],
      "metadata": {
        "colab": {
          "base_uri": "https://localhost:8080/"
        },
        "id": "rXxByUNNYj8x",
        "outputId": "b4b1557b-0943-4ac5-87fa-f132d51fe725"
      },
      "execution_count": 4,
      "outputs": [
        {
          "output_type": "stream",
          "name": "stderr",
          "text": [
            "<ipython-input-4-04ac83f5342d>:10: DeprecationWarning: In a future version, `df.iloc[:, i] = newvals` will attempt to set the values inplace instead of always setting a new array. To retain the old behavior, use either `df[df.columns[i]] = newvals` or, if columns are non-unique, `df.isetitem(i, newvals)`\n",
            "  df_output_modified.loc[:, 'class'] = df_output_modified['class'].apply(lambda x: 1 if x == 'QSO' else 0)\n"
          ]
        }
      ]
    },
    {
      "cell_type": "code",
      "source": [
        "#verify data is properly transformed\n",
        "print(df_input.head())\n",
        "print(\"\\n\")\n",
        "print(df_output.head())\n",
        "print(\"\\n\")\n",
        "print(df_output_modified.head())"
      ],
      "metadata": {
        "colab": {
          "base_uri": "https://localhost:8080/"
        },
        "id": "UF4BFFM5ZC3V",
        "outputId": "838ffba0-9bb4-4b8f-b665-5213ac9812b5"
      },
      "execution_count": 5,
      "outputs": [
        {
          "output_type": "stream",
          "name": "stdout",
          "text": [
            "          u         g         r         i         z  redshift\n",
            "0  19.13548  18.55482  17.95603  17.68272  17.63717  1.802680\n",
            "1  19.21402  17.27192  16.38074  15.96969  15.62344  0.075626\n",
            "2  18.47633  17.30546  17.24116  17.32780  17.37114 -0.000093\n",
            "3  17.47752  16.23605  15.61560  15.29749  15.03419  0.037549\n",
            "4  19.35331  18.05971  17.41365  17.00762  16.73926  0.093936\n",
            "\n",
            "\n",
            "    class\n",
            "0     QSO\n",
            "1  GALAXY\n",
            "2    STAR\n",
            "3  GALAXY\n",
            "4  GALAXY\n",
            "\n",
            "\n",
            "   class\n",
            "0      1\n",
            "1      0\n",
            "2      0\n",
            "3      0\n",
            "4      0\n"
          ]
        }
      ]
    },
    {
      "cell_type": "code",
      "source": [
        "#Converting to numpy arrays\n",
        "X = df_input.to_numpy()\n",
        "y = df_output_modified['class'].to_numpy()\n",
        "\n",
        "# Split the data into training and testing sets\n",
        "X_train, X_test, y_train, y_test = train_test_split(X, y, test_size=0.2, random_state=42)\n",
        "\n",
        "# Normalize the input features\n",
        "scaler = StandardScaler()\n",
        "X_train = scaler.fit_transform(X_train)\n",
        "X_test = scaler.transform(X_test)"
      ],
      "metadata": {
        "id": "JwMStk29bQSc"
      },
      "execution_count": 6,
      "outputs": []
    },
    {
      "cell_type": "markdown",
      "source": [
        "#Constructing Model"
      ],
      "metadata": {
        "id": "PfI9RdjVbiRc"
      }
    },
    {
      "cell_type": "code",
      "source": [
        "model = tf.keras.Sequential([\n",
        "    layers.Dense(64, activation='relu', input_shape=(X_train.shape[1],)),\n",
        "    layers.Dropout(0.5),\n",
        "    layers.Dense(32, activation='relu'),\n",
        "    layers.Dropout(0.5),\n",
        "    layers.Dense(1, activation='sigmoid')\n",
        "])\n",
        "\n",
        "model.compile(optimizer='adam',\n",
        "              loss='binary_crossentropy',\n",
        "              metrics=['accuracy'])"
      ],
      "metadata": {
        "id": "7W2j2iXpbno9"
      },
      "execution_count": 7,
      "outputs": []
    },
    {
      "cell_type": "markdown",
      "source": [
        "#Train the model"
      ],
      "metadata": {
        "id": "5UZH853pb_lm"
      }
    },
    {
      "cell_type": "markdown",
      "source": [],
      "metadata": {
        "id": "lyn0LdSKc9WP"
      }
    },
    {
      "cell_type": "code",
      "source": [
        "history = model.fit(X_train, y_train, epochs=10, batch_size=32, validation_split=0.2, verbose=1)"
      ],
      "metadata": {
        "id": "8Rt9Z9alcCiN",
        "colab": {
          "base_uri": "https://localhost:8080/"
        },
        "outputId": "4eb6a9a7-3ff5-4baf-eec9-0c4973199bcd"
      },
      "execution_count": 8,
      "outputs": [
        {
          "output_type": "stream",
          "name": "stdout",
          "text": [
            "Epoch 1/10\n",
            "2000/2000 [==============================] - 5s 2ms/step - loss: 0.0663 - accuracy: 0.9847 - val_loss: 0.0323 - val_accuracy: 0.9914\n",
            "Epoch 2/10\n",
            "2000/2000 [==============================] - 6s 3ms/step - loss: 0.0357 - accuracy: 0.9917 - val_loss: 0.0328 - val_accuracy: 0.9913\n",
            "Epoch 3/10\n",
            "2000/2000 [==============================] - 4s 2ms/step - loss: 0.0347 - accuracy: 0.9919 - val_loss: 0.0318 - val_accuracy: 0.9918\n",
            "Epoch 4/10\n",
            "2000/2000 [==============================] - 4s 2ms/step - loss: 0.0337 - accuracy: 0.9920 - val_loss: 0.0310 - val_accuracy: 0.9924\n",
            "Epoch 5/10\n",
            "2000/2000 [==============================] - 6s 3ms/step - loss: 0.0334 - accuracy: 0.9922 - val_loss: 0.0309 - val_accuracy: 0.9926\n",
            "Epoch 6/10\n",
            "2000/2000 [==============================] - 4s 2ms/step - loss: 0.0315 - accuracy: 0.9926 - val_loss: 0.0301 - val_accuracy: 0.9924\n",
            "Epoch 7/10\n",
            "2000/2000 [==============================] - 4s 2ms/step - loss: 0.0314 - accuracy: 0.9925 - val_loss: 0.0297 - val_accuracy: 0.9926\n",
            "Epoch 8/10\n",
            "2000/2000 [==============================] - 5s 3ms/step - loss: 0.0315 - accuracy: 0.9930 - val_loss: 0.0298 - val_accuracy: 0.9929\n",
            "Epoch 9/10\n",
            "2000/2000 [==============================] - 4s 2ms/step - loss: 0.0303 - accuracy: 0.9929 - val_loss: 0.0297 - val_accuracy: 0.9929\n",
            "Epoch 10/10\n",
            "2000/2000 [==============================] - 4s 2ms/step - loss: 0.0291 - accuracy: 0.9932 - val_loss: 0.0289 - val_accuracy: 0.9929\n"
          ]
        }
      ]
    },
    {
      "cell_type": "markdown",
      "source": [
        "#Model Evaluation"
      ],
      "metadata": {
        "id": "mIwFQLPucD7N"
      }
    },
    {
      "cell_type": "code",
      "source": [
        "test_loss, test_acc = model.evaluate(X_test, y_test, verbose=2)\n",
        "print('\\nTest accuracy:', test_acc)\n"
      ],
      "metadata": {
        "colab": {
          "base_uri": "https://localhost:8080/"
        },
        "id": "Hq4bjAmLcSCI",
        "outputId": "9a2dd381-d3f7-459b-83b3-79f639be19a2"
      },
      "execution_count": 9,
      "outputs": [
        {
          "output_type": "stream",
          "name": "stdout",
          "text": [
            "625/625 - 1s - loss: 0.0245 - accuracy: 0.9942 - 1s/epoch - 2ms/step\n",
            "\n",
            "Test accuracy: 0.9942499995231628\n"
          ]
        }
      ]
    },
    {
      "cell_type": "code",
      "source": [
        "start_index = 0\n",
        "n_rows = 50\n",
        "\n",
        "\n",
        "end_index = start_index + n_rows  # Calculate the end index\n",
        "\n",
        "#Bounds checking\n",
        "if end_index > len(X_test):\n",
        "      print(\"Requested range exceeds dataset bounds. Adjusting to print till the end of the dataset.\")\n",
        "      end_index = len(X_test)\n",
        "\n",
        "#Print table\n",
        "for i in range(start_index, end_index):\n",
        "    print(f\"{i}: Features: {X_test[i]}, Label: {y_test[i]}\")"
      ],
      "metadata": {
        "colab": {
          "base_uri": "https://localhost:8080/"
        },
        "id": "9WR_8cJkemwJ",
        "outputId": "304ff161-24ed-4d38-85bc-1c7404368219"
      },
      "execution_count": 10,
      "outputs": [
        {
          "output_type": "stream",
          "name": "stdout",
          "text": [
            "0: Features: [ 0.53788103 -0.4028833  -0.90498937 -1.02269677 -1.10591296 -0.02685488], Label: 0\n",
            "1: Features: [ 0.83252623 -0.07219777 -0.40568328 -0.52592351 -0.61741445 -0.22173901], Label: 0\n",
            "2: Features: [ 0.00265814 -0.12688651 -0.11527226 -0.06402413 -0.02410027 -0.38994148], Label: 0\n",
            "3: Features: [-0.01996807  0.99071709  1.20054117  1.08791244  1.06895185  3.94856907], Label: 1\n",
            "4: Features: [-0.47747639  0.70596686  0.91233257  1.06897665  1.09939879  1.91495601], Label: 1\n",
            "5: Features: [ 0.62397834 -0.12121299 -0.59653613 -0.77198962 -0.87443366 -0.1346559 ], Label: 0\n",
            "6: Features: [ 0.95813535  0.13053961 -0.19456817 -0.29360711 -0.37302889 -0.22213641], Label: 0\n",
            "7: Features: [ 1.13643089  0.25482022 -0.20981772 -0.33794475 -0.46072449 -0.134008  ], Label: 0\n",
            "8: Features: [ 0.15466452  0.01370549  0.34029378  0.54396074  0.65969795 -0.39047713], Label: 0\n",
            "9: Features: [-0.26682681  0.80252825  1.18478947  1.29142465  1.26419704  1.1795099 ], Label: 1\n",
            "10: Features: [ 1.08976132  0.14967762 -0.12208214 -0.15547414 -0.12778655 -0.38987147], Label: 0\n",
            "11: Features: [-0.49862542 -0.1319319  -0.00919493 -0.08464456 -0.06694719 -0.16899609], Label: 0\n",
            "12: Features: [-1.08583815 -0.66346025 -0.37718397 -0.23011896 -0.14406542 -0.39111534], Label: 0\n",
            "13: Features: [-0.17908417 -0.19701535 -0.26516011 -0.36760779 -0.39601403 -0.21455508], Label: 0\n",
            "14: Features: [0.7753482  1.76289413 1.84264333 1.897601   1.95565956 2.8319367 ], Label: 1\n",
            "15: Features: [-0.23745116 -0.29887541 -0.28349305 -0.29596892 -0.35759901 -0.30474214], Label: 0\n",
            "16: Features: [ 0.11637769 -0.16268038 -0.17804121 -0.13297913 -0.06396403 -0.39006824], Label: 0\n",
            "17: Features: [ 1.03858812  0.85760198  0.87665338  0.92450974  0.94425104 -0.38896885], Label: 0\n",
            "18: Features: [ 0.40713177  0.53391718  0.53113783  0.48758281  0.55509258 -0.22093723], Label: 0\n",
            "19: Features: [ 0.78672136  0.13867504 -0.2892722  -0.43422575 -0.55716706 -0.08439124], Label: 0\n",
            "20: Features: [ 0.2007336   0.29679418  0.37764682  0.41098909  0.39002172 -0.33550196], Label: 0\n",
            "21: Features: [-1.18011405 -0.39228596  0.40247249  0.78691356  1.02524036 -0.39066632], Label: 0\n",
            "22: Features: [ 0.98530122  0.00896404 -0.39272424 -0.51896194 -0.64166919 -0.16872759], Label: 0\n",
            "23: Features: [ 0.4649343  -0.06143834 -0.3892268  -0.53732792 -0.64774456 -0.190878  ], Label: 0\n",
            "24: Features: [ 0.42983004  0.32346989  0.18372819  0.08092175  0.00718008 -0.30149121], Label: 0\n",
            "25: Features: [ 0.6102633   0.15521944 -0.00886898  0.00655771  0.02909814 -0.38971435], Label: 0\n",
            "26: Features: [ 0.29682296 -0.15577084 -0.29702472 -0.38491673 -0.43295694 -0.25006425], Label: 0\n",
            "27: Features: [ 0.59184047  0.86499783  0.91199781  0.95516375  0.98673188 -0.39057593], Label: 0\n",
            "28: Features: [ 0.03680163  0.28342087  0.44406298  0.42693545  0.48831805 -0.22566716], Label: 0\n",
            "29: Features: [ 1.06753142  0.42478286  0.19632603  0.16203265  0.16335598 -0.38943704], Label: 0\n",
            "30: Features: [-1.31936616 -0.82728332 -0.4783455  -0.30914056 -0.1728611  -0.3899699 ], Label: 0\n",
            "31: Features: [-2.09975441 -2.16857582 -1.92617195 -1.7497054  -1.579963   -0.38977653], Label: 0\n",
            "32: Features: [ 0.30067807 -0.44834243 -0.6764311  -0.75258312 -0.83217091 -0.23684133], Label: 0\n",
            "33: Features: [ 0.30053395  0.50882196  0.45689868  0.38520735  0.36729361 -0.2402058 ], Label: 0\n",
            "34: Features: [ 0.05487618  0.16876499  0.17342968  0.14336112  0.15134545 -0.3088578 ], Label: 0\n",
            "35: Features: [-0.13607755  0.21436595  0.33398605  0.37078048  0.42257946 -0.39019333], Label: 0\n",
            "36: Features: [ 0.92158993 -0.01393269 -0.42771628 -0.57792466 -0.72394369 -0.16816686], Label: 0\n",
            "37: Features: [0.82050455 1.77237702 1.848167   1.96938026 2.01204365 2.29489566], Label: 1\n",
            "38: Features: [-2.01952983 -1.99527999 -1.79501347 -1.63536398 -1.49126263 -0.39025886], Label: 0\n",
            "39: Features: [-1.92317626 -1.62386665 -1.00255655 -0.71934434 -0.53355101 -0.39012708], Label: 0\n",
            "40: Features: [-0.20644219 -0.44602236 -0.61286047 -0.72031879 -0.82734177 -0.16354272], Label: 0\n",
            "41: Features: [ 0.21933658 -0.4977325  -0.75982351 -0.85405845 -0.93993859 -0.18595473], Label: 0\n",
            "42: Features: [ 0.39178341  0.10561662 -0.0908166  -0.19090132 -0.29875363 -0.19951521], Label: 0\n",
            "43: Features: [ 1.09989748  1.67955408  1.9134379   2.03490815  2.13168945 -0.09040899], Label: 0\n",
            "44: Features: [ 0.81829477  0.77337038  0.62199203  0.49975522  0.44409249 -0.18869274], Label: 0\n",
            "45: Features: [ 0.67679686 -0.1258126  -0.51405993 -0.62391392 -0.72927132 -0.16740828], Label: 0\n",
            "46: Features: [ 0.56916621  0.31953895  0.01511097 -0.1410803  -0.24421552 -0.16247298], Label: 0\n",
            "47: Features: [-0.93904398 -1.16040035 -1.10223805 -1.03223486 -0.9354288  -0.3897251 ], Label: 0\n",
            "48: Features: [-0.29011355 -0.49941429 -0.5900434  -0.68521368 -0.76968809 -0.14983734], Label: 0\n",
            "49: Features: [-0.01277428 -0.53006146 -0.58847528 -0.52672454 -0.46782021 -0.38969517], Label: 0\n"
          ]
        }
      ]
    },
    {
      "cell_type": "code",
      "source": [
        "index = 9\n",
        "\n",
        "\n",
        "selected_row = X_test[index].reshape(1, -1)\n",
        "predicted = model.predict(selected_row)\n",
        "predicted_label = (predicted > 0.5).astype(\"int8\")\n",
        "actual_label = y_test[index]\n",
        "\n",
        "print(f\"Predicted: {predicted_label.flatten()[0]}, Actual: {actual_label}\")\n"
      ],
      "metadata": {
        "colab": {
          "base_uri": "https://localhost:8080/"
        },
        "id": "JSnlijVEeKhP",
        "outputId": "f380f0c1-490a-4ba7-e260-496589132ce3"
      },
      "execution_count": 16,
      "outputs": [
        {
          "output_type": "stream",
          "name": "stdout",
          "text": [
            "1/1 [==============================] - 0s 29ms/step\n",
            "Predicted: 1, Actual: 1\n"
          ]
        }
      ]
    }
  ]
}